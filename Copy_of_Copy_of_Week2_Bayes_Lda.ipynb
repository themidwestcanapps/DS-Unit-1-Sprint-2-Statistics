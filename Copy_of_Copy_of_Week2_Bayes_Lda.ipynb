{
  "nbformat": 4,
  "nbformat_minor": 0,
  "metadata": {
    "colab": {
      "name": "Copy of Copy of Week2_Bayes.Lda.ipynb",
      "provenance": [],
      "private_outputs": true,
      "collapsed_sections": [],
      "include_colab_link": true
    },
    "kernelspec": {
      "name": "python3",
      "display_name": "Python 3"
    }
  },
  "cells": [
    {
      "cell_type": "markdown",
      "metadata": {
        "id": "view-in-github",
        "colab_type": "text"
      },
      "source": [
        "<a href=\"https://colab.research.google.com/github/themidwestcanapps/DS-Unit-1-Sprint-2-Statistics/blob/master/Copy_of_Copy_of_Week2_Bayes_Lda.ipynb\" target=\"_parent\"><img src=\"https://colab.research.google.com/assets/colab-badge.svg\" alt=\"Open In Colab\"/></a>"
      ]
    },
    {
      "cell_type": "code",
      "metadata": {
        "id": "PChjzzR5RcnI",
        "colab_type": "code",
        "colab": {}
      },
      "source": [
        "def bayes_mvs(data, alpha=0.90):\n",
        "    m, v, s = mvsdist(data)\n",
        "    if alpha >= 1 or alpha <= 0:\n",
        "        raise ValueError(\"0 < alpha < 1 is required, but alpha=%s was given.\"\n",
        "                        % alpha)\n",
        "    \n",
        "    m_res = Mean(m.mean(), m.interval(alpha))\n",
        "    v_res = Variance(v.mean(), v.interval(alpha))\n",
        "    s_res = Std_dev(s.mean(), s.interval(alpha))\n",
        "\n",
        "    return m_res, v_res, s_res "
      ],
      "execution_count": 0,
      "outputs": []
    },
    {
      "cell_type": "code",
      "metadata": {
        "id": "67SdW4QA-a6t",
        "colab_type": "code",
        "colab": {}
      },
      "source": [
        "def prob_given_positive(not_so, prob_drunk_prior, false_positive_rate):\n",
        "    prior_so = 1 - not_so\n",
        "    false_pos = 1 - false_positive_rate\n",
        "    prob_pos = (prob_drunk_prior * not_so) / (prob_drunk_prior *\n",
        "                                              not_so + false_pos *\n",
        "                                              prior_so)\n",
        "    return prob_pos\n",
        "\n",
        "base_rate = 1 / 100000\n",
        "sensitivity = 1\n",
        "specificity = 0.08\n",
        "result = prob_given_positive(base_rate, sensitivity, specificity)\n",
        "print('P(D|d) = %.3f%%' % (result * 100))\n"
      ],
      "execution_count": 0,
      "outputs": []
    },
    {
      "cell_type": "code",
      "metadata": {
        "id": "16kR-HrMnLdY",
        "colab_type": "code",
        "colab": {}
      },
      "source": [
        "blw = np.random.normal(blows)"
      ],
      "execution_count": 0,
      "outputs": []
    },
    {
      "cell_type": "code",
      "metadata": {
        "id": "BTJ00ZH7rEWy",
        "colab_type": "code",
        "colab": {}
      },
      "source": [
        "blw"
      ],
      "execution_count": 0,
      "outputs": []
    },
    {
      "cell_type": "markdown",
      "metadata": {
        "id": "z5ZSEoaUiTHv",
        "colab_type": "text"
      },
      "source": [
        "* TP = TRUEpositive (Intoxicated proven Intoxicated)\n",
        "* TN = TRUEnegative (Intoxicated proven NotSo)\n",
        "* FP = falsePOSITIVE (NotSo proven Intoxicated)\n",
        "* FN = falseNEGATIVE (NotSO proven NotSO)"
      ]
    },
    {
      "cell_type": "code",
      "metadata": {
        "id": "lqYmfoD1gty9",
        "colab_type": "code",
        "colab": {}
      },
      "source": [
        "def perf_mes(y_actual, y_hat):\n",
        "    TP = 0 \n",
        "    FP = 0 \n",
        "    TN = 0\n",
        "    FN = 0 \n",
        "\n",
        "    for i in range(len(y_hat)):\n",
        "        if y_actual[i]==y_hat[i]==1:\n",
        "            TP += 1\n",
        "        if y_hat[i]==1 and y_actual[i]!=y_hat[i]:\n",
        "            FP += 1\n",
        "        if y_actual[i]==y_hat[i]==0:\n",
        "            TN += 1\n",
        "        if y_hat[i]==0 and y_actual[i]!=y_hat[i]:\n",
        "            FN += 1\n",
        "    return(TP, FP, TN, FN)"
      ],
      "execution_count": 0,
      "outputs": []
    },
    {
      "cell_type": "code",
      "metadata": {
        "id": "iONl0oXUjhh6",
        "colab_type": "code",
        "colab": {}
      },
      "source": [
        ""
      ],
      "execution_count": 0,
      "outputs": []
    },
    {
      "cell_type": "code",
      "metadata": {
        "id": "Hs2Id1G7dswT",
        "colab_type": "code",
        "colab": {}
      },
      "source": [
        "# CM = confusion_matrix(y_true, y_pred)\n",
        "#     CM = confustion \n",
        "#     NT = CM[0][0]\n",
        "#     NF = CM[1][0]\n",
        "#     PT = CM[1][1]\n",
        "#     PF = CM[0][1]\n",
        "\n",
        "#     return( )"
      ],
      "execution_count": 0,
      "outputs": []
    },
    {
      "cell_type": "code",
      "metadata": {
        "id": "Jsu4Gt4GpHmL",
        "colab_type": "code",
        "colab": {}
      },
      "source": [
        ""
      ],
      "execution_count": 0,
      "outputs": []
    },
    {
      "cell_type": "code",
      "metadata": {
        "id": "88JB6_jclnfV",
        "colab_type": "code",
        "colab": {}
      },
      "source": [
        "from sklearn.metrics import confusion_matrix \n",
        "\n",
        "y_true = np.array(blows)\n",
        "y_pred = np.array(blw)\n",
        "\n",
        "tn, fp, fn, tp = confusion_matrix(y_true, y_pred).ravel()\n",
        "print(tn, fp, fn, tp)"
      ],
      "execution_count": 0,
      "outputs": []
    },
    {
      "cell_type": "code",
      "metadata": {
        "id": "syfv1q3hDsBW",
        "colab_type": "code",
        "colab": {}
      },
      "source": [
        "\n",
        " \n",
        "expected = [0, 0, 0, 0, 0, 0, 0, 1, 0, 0, 0, 1, 0]\n",
        "predicted = [1, 1, 1, 1, 1, 1, 1, 1, 1, 1, 1, 0, 1]\n",
        "results = confusion_matrix(expected, predicted)\n",
        "print(results)"
      ],
      "execution_count": 0,
      "outputs": []
    },
    {
      "cell_type": "code",
      "metadata": {
        "id": "Y39jOBiqXgpo",
        "colab_type": "code",
        "colab": {}
      },
      "source": [
        "import numpy as np \n"
      ],
      "execution_count": 0,
      "outputs": []
    },
    {
      "cell_type": "code",
      "metadata": {
        "id": "XBY20a2FSzcT",
        "colab_type": "code",
        "colab": {}
      },
      "source": [
        "# def prob_drunk_given_positive(prob_drunk_prior, false_positive_rate):\n",
        "blows = []\n",
        "for x in range(0,10000):\n",
        "    attempts = np.random.standard_gamma(1,1)\n",
        "    one_blow = attempts \n",
        "    blows.append(attempts.mean())\n",
        "\n",
        "print(len(blows))\n",
        "print(blows) \n",
        "\n"
      ],
      "execution_count": 0,
      "outputs": []
    },
    {
      "cell_type": "code",
      "metadata": {
        "id": "e7bOjwMgX_se",
        "colab_type": "code",
        "colab": {}
      },
      "source": [
        "import pandas as pd"
      ],
      "execution_count": 0,
      "outputs": []
    },
    {
      "cell_type": "code",
      "metadata": {
        "id": "lUBttpDCXzje",
        "colab_type": "code",
        "colab": {}
      },
      "source": [
        "df = pd.DataFrame({'single_attempt': one_blow})\n",
        "df"
      ],
      "execution_count": 0,
      "outputs": []
    },
    {
      "cell_type": "code",
      "metadata": {
        "id": "6Wii82z2YOxJ",
        "colab_type": "code",
        "colab": {}
      },
      "source": [
        "df.single_attempt.hist();"
      ],
      "execution_count": 0,
      "outputs": []
    },
    {
      "cell_type": "code",
      "metadata": {
        "id": "JXV78ZMUYmIF",
        "colab_type": "code",
        "colab": {}
      },
      "source": [
        "import matplotlib.pyplot as plt\n",
        "\n",
        "ax = plt.hist(blows, bins=3)\n",
        "plt.title('300 Blows');"
      ],
      "execution_count": 0,
      "outputs": []
    },
    {
      "cell_type": "code",
      "metadata": {
        "id": "c7bmnlsqZKGS",
        "colab_type": "code",
        "colab": {}
      },
      "source": [
        "blows_mms = []\n",
        "blows_ll7 = []\n",
        "for x in range(0,10000):\n",
        "    attempts_mms = np.random.binomial(n=1, p=0.08, size=10)\n",
        "    attempts_ll7 = np.random.binomial(n=1, p=0.08, size=100)\n",
        "    one_mms_blow = attempts_mms\n",
        "    one_ll7_blow = attempts_ll7\n",
        "    blows_mms.append(attempts_mms.mean())\n",
        "    blows_ll7.append(attempts_ll7.mean())\n",
        "\n",
        "print(len(blows_mms))\n",
        "print(blows_mms)"
      ],
      "execution_count": 0,
      "outputs": []
    },
    {
      "cell_type": "code",
      "metadata": {
        "id": "lFHid4O_alfi",
        "colab_type": "code",
        "colab": {}
      },
      "source": [
        "import matplotlib.pyplot as plt \n",
        "import seaborn as sns \n",
        "fix, ax = plt.subplots()\n",
        "for blow in [blows_mms, blows_ll7]:\n",
        "    sns.distplot(blow)"
      ],
      "execution_count": 0,
      "outputs": []
    },
    {
      "cell_type": "code",
      "metadata": {
        "id": "YUX4yGqhr-Ch",
        "colab_type": "code",
        "colab": {}
      },
      "source": [
        "import sklearn \n",
        "\n",
        "y_true = [1, 1, 1, 1, 1, 1, 1, 1, 1, 1]\n",
        "y_pred = [1, 1, 1, 1, 1, 0, 1, 1, 1, 1]CM = confustion \n",
        "    NT = CM[0][0]\n",
        "    NF = CM[1][0]\n",
        "    PT = CM[1][1]\n",
        "    PF = CM[0][1]\n",
        "\n",
        "    return( )perf.)reres\n",
        "\n",
        "print(sklearn.metrics.classification_report(y_true, y_pred))"
      ],
      "execution_count": 0,
      "outputs": []
    },
    {
      "cell_type": "code",
      "metadata": {
        "id": "iyygTnaoDlHR",
        "colab_type": "code",
        "colab": {}
      },
      "source": [
        "def perf_measure(y_actual, y_pred):\n",
        "    class_id = set(y_actual).union(set(y_pred))\n",
        "    TP = []\n",
        "    FP = []\n",
        "    TN = []\n",
        "    FN = []\n",
        "\n",
        "    for index ,_id in enumerate(class_id):\n",
        "        TP.append(0)\n",
        "        FP.append(0)\n",
        "        TN.append(0)\n",
        "        FN.append(0)\n",
        "        for i in range(len(y_pred)):\n",
        "            if y_actual[i] == y_pred[i] == _id:\n",
        "                TP[index] += 1\n",
        "            if y_pred[i] == _id and y_actual[i] != y_pred[i]:\n",
        "                FP[index] += 1\n",
        "            if y_actual[i] == y_pred[i] != _id:\n",
        "                TN[index] += 1\n",
        "            if y_pred[i] != _id and y_actual[i] != y_pred[i]:\n",
        "                FN[index] += 1\n",
        "\n",
        "\n",
        "    return class_id,TP, FP, TN, FN   "
      ],
      "execution_count": 0,
      "outputs": []
    }
  ]
}